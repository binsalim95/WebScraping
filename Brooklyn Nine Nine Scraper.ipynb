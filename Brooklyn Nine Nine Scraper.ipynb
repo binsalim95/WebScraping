{
 "cells": [
  {
   "cell_type": "markdown",
   "id": "169dcda3",
   "metadata": {},
   "source": [
    "# B99 and NBC Show Scraper\n",
    "\n",
    "In this notebook, I'll be scraping Wikipedia info on \"Brooklyn Nine Nine\"."
   ]
  },
  {
   "cell_type": "code",
   "execution_count": 1,
   "id": "1fed26ab",
   "metadata": {},
   "outputs": [],
   "source": [
    "#Imports\n",
    "from bs4 import BeautifulSoup as bs\n",
    "import requests\n",
    "import pandas"
   ]
  },
  {
   "cell_type": "code",
   "execution_count": 6,
   "id": "14e5f1b6",
   "metadata": {},
   "outputs": [],
   "source": [
    "#Get content\n",
    "r = requests.get(\"https://en.wikipedia.org/wiki/Brooklyn_Nine-Nine\")\n",
    "soup = bs(r.content)\n",
    "content = soup.prettify()"
   ]
  },
  {
   "cell_type": "markdown",
   "id": "ec0c8ab1",
   "metadata": {},
   "source": [
    "### Finding Relevant Info from HTML Tags"
   ]
  },
  {
   "cell_type": "code",
   "execution_count": 7,
   "id": "7756d2b9",
   "metadata": {},
   "outputs": [],
   "source": [
    "info_box = soup.find(class_='infobox vevent')\n",
    "info_rows = info_box.find_all('tr')\n",
    "def get_content_value(row_data):\n",
    "  if row.find(\"li\") is not None:\n",
    "    return [li.get_text(\" \", strip = True).replace(\"\\xa0\", ' ') for li in row.find_all('li')]\n",
    "  else:\n",
    "    return row.find('td').get_text(\" \", strip = True).replace(\"\\xa0\", ' ')"
   ]
  },
  {
   "cell_type": "code",
   "execution_count": 9,
   "id": "cd77f841",
   "metadata": {},
   "outputs": [
    {
     "name": "stdout",
     "output_type": "stream",
     "text": [
      "Title:Brooklyn Nine-Nine\n",
      "Genre:['Police procedural', 'Sitcom']\n",
      "Created by:['Dan Goor', 'Michael Schur']\n",
      "Starring:['Andy Samberg', 'Stephanie Beatriz', 'Terry Crews', 'Melissa Fumero', 'Joe Lo Truglio', 'Chelsea Peretti', 'Andre Braugher', 'Dirk Blocker', 'Joel McKinnon Miller']\n",
      "Theme music composer:['Jacques Slade', 'Lamar Van Sciver', 'Frank Greenfield']\n",
      "Composer:Dan Marocco\n",
      "Country of origin:United States\n",
      "Original language:English\n",
      "No. of seasons:8\n",
      "No. of episodes:153 ( list of episodes )\n",
      "Executive producers:['Dan Goor', 'Michael Schur', 'David Miner', 'Phil Lord Christopher Miller (both; pilot)', 'Luke Del Tredici', 'David Phillips']\n",
      "Producers:['Marshall Boone', 'Norm Hiscock', 'Matt Nodella', 'Andy Samberg', 'Neil Campbell', 'Matt Lawton', 'Cortney Carrillo', 'Carol Kolb', 'Phil Augusta Jackson', 'Sierra Ornelas Miller', 'Richard H. Prince', 'Evan Susser', 'Van Robichaux']\n",
      "Camera setup:Single-camera\n",
      "Running time:21–23 minutes\n",
      "Production companies:['Fremulon', 'Dr. Goor Productions', '3 Arts Entertainment', 'Universal Television']\n",
      "Distributor:NBCUniversal Television Distribution\n",
      "Original network:['Fox (seasons 1–5)', 'NBC (seasons 6–8)']\n",
      "Original release:September 17, 2013 ( 2013-09-17 ) – September 16, 2021 ( 2021-09-16 )\n"
     ]
    }
   ],
   "source": [
    "show_info={}\n",
    "X = info_box.find_all('tr')\n",
    "for index, row in enumerate(X):\n",
    "  if index==0:\n",
    "    show_info['Title']=row.find('th').get_text()\n",
    "  elif index == 1:\n",
    "    continue\n",
    "  else:\n",
    "    x = row.find('th')\n",
    "    y = row.find('td')\n",
    "    if x is not None and y is not None:\n",
    "      key = row.find('th').get_text()\n",
    "      value = get_content_value(row.find('td'))\n",
    "      show_info[key] = value\n",
    "\n",
    "for key in show_info:\n",
    "  print (f\"{key}:{show_info[key]}\")"
   ]
  },
  {
   "cell_type": "markdown",
   "id": "1adc5051",
   "metadata": {},
   "source": [
    "Done!\n",
    "\n"
   ]
  }
 ],
 "metadata": {
  "kernelspec": {
   "display_name": "Python 3",
   "language": "python",
   "name": "python3"
  },
  "language_info": {
   "codemirror_mode": {
    "name": "ipython",
    "version": 3
   },
   "file_extension": ".py",
   "mimetype": "text/x-python",
   "name": "python",
   "nbconvert_exporter": "python",
   "pygments_lexer": "ipython3",
   "version": "3.8.8"
  }
 },
 "nbformat": 4,
 "nbformat_minor": 5
}
